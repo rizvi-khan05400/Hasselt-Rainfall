{
 "cells": [
  {
   "cell_type": "markdown",
   "id": "5edc8b92-8115-4de6-928e-96a8047e45c5",
   "metadata": {},
   "source": [
    "# Hasselt Rainfall"
   ]
  },
  {
   "cell_type": "code",
   "execution_count": 1,
   "id": "77045d45-240a-4c66-9725-27c6fe19ea30",
   "metadata": {},
   "outputs": [],
   "source": [
    "# Load Packeges\n",
    "import numpy as np\n",
    "import pandas as pd\n",
    "import matplotlib.pyplot as plt\n",
    "import seaborn as sns\n",
    "\n",
    "import warnings\n",
    "warnings.filterwarnings('ignore')"
   ]
  },
  {
   "cell_type": "code",
   "execution_count": null,
   "id": "78672f99-b01d-4e8a-8a3d-50d0c6ecc763",
   "metadata": {},
   "outputs": [],
   "source": []
  },
  {
   "cell_type": "code",
   "execution_count": 2,
   "id": "bad2bbbe-b9ec-4a16-9a81-dc877c612a8b",
   "metadata": {},
   "outputs": [
    {
     "data": {
      "text/html": [
       "<div>\n",
       "<style scoped>\n",
       "    .dataframe tbody tr th:only-of-type {\n",
       "        vertical-align: middle;\n",
       "    }\n",
       "\n",
       "    .dataframe tbody tr th {\n",
       "        vertical-align: top;\n",
       "    }\n",
       "\n",
       "    .dataframe thead th {\n",
       "        text-align: right;\n",
       "    }\n",
       "</style>\n",
       "<table border=\"1\" class=\"dataframe\">\n",
       "  <thead>\n",
       "    <tr style=\"text-align: right;\">\n",
       "      <th></th>\n",
       "      <th># Monthly homogenized climate series</th>\n",
       "      <th>Unnamed: 1</th>\n",
       "      <th>Unnamed: 2</th>\n",
       "    </tr>\n",
       "  </thead>\n",
       "  <tbody>\n",
       "    <tr>\n",
       "      <th>0</th>\n",
       "      <td># Source : Royal Meteorological Institute of B...</td>\n",
       "      <td>NaN</td>\n",
       "      <td>NaN</td>\n",
       "    </tr>\n",
       "    <tr>\n",
       "      <th>1</th>\n",
       "      <td># Variable : Monthly precipitation in mm (RR)</td>\n",
       "      <td>NaN</td>\n",
       "      <td>NaN</td>\n",
       "    </tr>\n",
       "    <tr>\n",
       "      <th>2</th>\n",
       "      <td># Series name : HASSELT</td>\n",
       "      <td>NaN</td>\n",
       "      <td>NaN</td>\n",
       "    </tr>\n",
       "    <tr>\n",
       "      <th>3</th>\n",
       "      <td># Series code : 1066</td>\n",
       "      <td>NaN</td>\n",
       "      <td>NaN</td>\n",
       "    </tr>\n",
       "    <tr>\n",
       "      <th>4</th>\n",
       "      <td># Format: each row contains the year - the mon...</td>\n",
       "      <td>NaN</td>\n",
       "      <td>NaN</td>\n",
       "    </tr>\n",
       "    <tr>\n",
       "      <th>5</th>\n",
       "      <td># File produced on : 2024-09-02 (YYYY-MM-DD)</td>\n",
       "      <td>NaN</td>\n",
       "      <td>NaN</td>\n",
       "    </tr>\n",
       "    <tr>\n",
       "      <th>6</th>\n",
       "      <td>#</td>\n",
       "      <td>NaN</td>\n",
       "      <td>NaN</td>\n",
       "    </tr>\n",
       "    <tr>\n",
       "      <th>7</th>\n",
       "      <td>YY</td>\n",
       "      <td>MM</td>\n",
       "      <td>RR</td>\n",
       "    </tr>\n",
       "    <tr>\n",
       "      <th>8</th>\n",
       "      <td>1952</td>\n",
       "      <td>3</td>\n",
       "      <td>63.1</td>\n",
       "    </tr>\n",
       "    <tr>\n",
       "      <th>9</th>\n",
       "      <td>1952</td>\n",
       "      <td>4</td>\n",
       "      <td>4.2</td>\n",
       "    </tr>\n",
       "    <tr>\n",
       "      <th>10</th>\n",
       "      <td>1952</td>\n",
       "      <td>5</td>\n",
       "      <td>32.1</td>\n",
       "    </tr>\n",
       "    <tr>\n",
       "      <th>11</th>\n",
       "      <td>1952</td>\n",
       "      <td>6</td>\n",
       "      <td>33.3</td>\n",
       "    </tr>\n",
       "    <tr>\n",
       "      <th>12</th>\n",
       "      <td>1952</td>\n",
       "      <td>7</td>\n",
       "      <td>70.4</td>\n",
       "    </tr>\n",
       "    <tr>\n",
       "      <th>13</th>\n",
       "      <td>1952</td>\n",
       "      <td>8</td>\n",
       "      <td>147</td>\n",
       "    </tr>\n",
       "    <tr>\n",
       "      <th>14</th>\n",
       "      <td>1952</td>\n",
       "      <td>9</td>\n",
       "      <td>83.2</td>\n",
       "    </tr>\n",
       "    <tr>\n",
       "      <th>15</th>\n",
       "      <td>1952</td>\n",
       "      <td>10</td>\n",
       "      <td>56.6</td>\n",
       "    </tr>\n",
       "    <tr>\n",
       "      <th>16</th>\n",
       "      <td>1952</td>\n",
       "      <td>11</td>\n",
       "      <td>93.1</td>\n",
       "    </tr>\n",
       "    <tr>\n",
       "      <th>17</th>\n",
       "      <td>1952</td>\n",
       "      <td>12</td>\n",
       "      <td>84.7</td>\n",
       "    </tr>\n",
       "    <tr>\n",
       "      <th>18</th>\n",
       "      <td>1953</td>\n",
       "      <td>1</td>\n",
       "      <td>20.1</td>\n",
       "    </tr>\n",
       "    <tr>\n",
       "      <th>19</th>\n",
       "      <td>1953</td>\n",
       "      <td>2</td>\n",
       "      <td>58.9</td>\n",
       "    </tr>\n",
       "  </tbody>\n",
       "</table>\n",
       "</div>"
      ],
      "text/plain": [
       "                 # Monthly homogenized climate series Unnamed: 1 Unnamed: 2\n",
       "0   # Source : Royal Meteorological Institute of B...        NaN        NaN\n",
       "1       # Variable : Monthly precipitation in mm (RR)        NaN        NaN\n",
       "2                             # Series name : HASSELT        NaN        NaN\n",
       "3                                # Series code : 1066        NaN        NaN\n",
       "4   # Format: each row contains the year - the mon...        NaN        NaN\n",
       "5        # File produced on : 2024-09-02 (YYYY-MM-DD)        NaN        NaN\n",
       "6                                                   #        NaN        NaN\n",
       "7                                                  YY         MM         RR\n",
       "8                                                1952          3       63.1\n",
       "9                                                1952          4        4.2\n",
       "10                                               1952          5       32.1\n",
       "11                                               1952          6       33.3\n",
       "12                                               1952          7       70.4\n",
       "13                                               1952          8        147\n",
       "14                                               1952          9       83.2\n",
       "15                                               1952         10       56.6\n",
       "16                                               1952         11       93.1\n",
       "17                                               1952         12       84.7\n",
       "18                                               1953          1       20.1\n",
       "19                                               1953          2       58.9"
      ]
     },
     "execution_count": 2,
     "metadata": {},
     "output_type": "execute_result"
    }
   ],
   "source": [
    "# Load Data Frame\n",
    "df = pd.read_csv(\"hasselt rainfall data monthly.csv\")\n",
    "df.head(20)"
   ]
  },
  {
   "cell_type": "code",
   "execution_count": 3,
   "id": "e221389e-0a1d-40c5-a688-6a81ea15145a",
   "metadata": {},
   "outputs": [
    {
     "data": {
      "text/plain": [
       "(774, 3)"
      ]
     },
     "execution_count": 3,
     "metadata": {},
     "output_type": "execute_result"
    }
   ],
   "source": [
    "df.shape"
   ]
  },
  {
   "cell_type": "code",
   "execution_count": 4,
   "id": "6b97e218-f06d-46e4-bf41-461d3e0ed9d6",
   "metadata": {},
   "outputs": [
    {
     "name": "stdout",
     "output_type": "stream",
     "text": [
      "<class 'pandas.core.frame.DataFrame'>\n",
      "RangeIndex: 774 entries, 0 to 773\n",
      "Data columns (total 3 columns):\n",
      " #   Column                                Non-Null Count  Dtype \n",
      "---  ------                                --------------  ----- \n",
      " 0   # Monthly homogenized climate series  774 non-null    object\n",
      " 1   Unnamed: 1                            767 non-null    object\n",
      " 2   Unnamed: 2                            767 non-null    object\n",
      "dtypes: object(3)\n",
      "memory usage: 18.3+ KB\n"
     ]
    }
   ],
   "source": [
    "df.info()"
   ]
  },
  {
   "cell_type": "code",
   "execution_count": 5,
   "id": "45f79745-36ff-45e8-937f-4471bc23c408",
   "metadata": {},
   "outputs": [
    {
     "data": {
      "text/html": [
       "<div>\n",
       "<style scoped>\n",
       "    .dataframe tbody tr th:only-of-type {\n",
       "        vertical-align: middle;\n",
       "    }\n",
       "\n",
       "    .dataframe tbody tr th {\n",
       "        vertical-align: top;\n",
       "    }\n",
       "\n",
       "    .dataframe thead th {\n",
       "        text-align: right;\n",
       "    }\n",
       "</style>\n",
       "<table border=\"1\" class=\"dataframe\">\n",
       "  <thead>\n",
       "    <tr style=\"text-align: right;\">\n",
       "      <th></th>\n",
       "      <th># Monthly homogenized climate series</th>\n",
       "      <th>Unnamed: 1</th>\n",
       "      <th>Unnamed: 2</th>\n",
       "    </tr>\n",
       "  </thead>\n",
       "  <tbody>\n",
       "    <tr>\n",
       "      <th>count</th>\n",
       "      <td>774</td>\n",
       "      <td>767</td>\n",
       "      <td>767</td>\n",
       "    </tr>\n",
       "    <tr>\n",
       "      <th>unique</th>\n",
       "      <td>72</td>\n",
       "      <td>13</td>\n",
       "      <td>551</td>\n",
       "    </tr>\n",
       "    <tr>\n",
       "      <th>top</th>\n",
       "      <td>1960</td>\n",
       "      <td>3</td>\n",
       "      <td>36.5</td>\n",
       "    </tr>\n",
       "    <tr>\n",
       "      <th>freq</th>\n",
       "      <td>12</td>\n",
       "      <td>64</td>\n",
       "      <td>5</td>\n",
       "    </tr>\n",
       "  </tbody>\n",
       "</table>\n",
       "</div>"
      ],
      "text/plain": [
       "       # Monthly homogenized climate series Unnamed: 1 Unnamed: 2\n",
       "count                                   774        767        767\n",
       "unique                                   72         13        551\n",
       "top                                    1960          3       36.5\n",
       "freq                                     12         64          5"
      ]
     },
     "execution_count": 5,
     "metadata": {},
     "output_type": "execute_result"
    }
   ],
   "source": [
    "df.describe(include=\"all\")"
   ]
  },
  {
   "cell_type": "code",
   "execution_count": null,
   "id": "91c4cc78-dbea-4453-9059-0a53a2378672",
   "metadata": {},
   "outputs": [],
   "source": []
  },
  {
   "cell_type": "markdown",
   "id": "f804d224-b49d-4c6c-bfb3-b09854664d26",
   "metadata": {},
   "source": [
    "# Data PreProcessing"
   ]
  },
  {
   "cell_type": "code",
   "execution_count": 6,
   "id": "678e43e8-ca29-48a1-b3aa-9ddb551a15a5",
   "metadata": {},
   "outputs": [
    {
     "data": {
      "text/html": [
       "<div>\n",
       "<style scoped>\n",
       "    .dataframe tbody tr th:only-of-type {\n",
       "        vertical-align: middle;\n",
       "    }\n",
       "\n",
       "    .dataframe tbody tr th {\n",
       "        vertical-align: top;\n",
       "    }\n",
       "\n",
       "    .dataframe thead th {\n",
       "        text-align: right;\n",
       "    }\n",
       "</style>\n",
       "<table border=\"1\" class=\"dataframe\">\n",
       "  <thead>\n",
       "    <tr style=\"text-align: right;\">\n",
       "      <th></th>\n",
       "      <th>Year</th>\n",
       "      <th>Month</th>\n",
       "      <th>Rainfall_mm</th>\n",
       "    </tr>\n",
       "  </thead>\n",
       "  <tbody>\n",
       "    <tr>\n",
       "      <th>0</th>\n",
       "      <td>1952</td>\n",
       "      <td>3</td>\n",
       "      <td>63.1</td>\n",
       "    </tr>\n",
       "    <tr>\n",
       "      <th>1</th>\n",
       "      <td>1952</td>\n",
       "      <td>4</td>\n",
       "      <td>4.2</td>\n",
       "    </tr>\n",
       "    <tr>\n",
       "      <th>2</th>\n",
       "      <td>1952</td>\n",
       "      <td>5</td>\n",
       "      <td>32.1</td>\n",
       "    </tr>\n",
       "    <tr>\n",
       "      <th>3</th>\n",
       "      <td>1952</td>\n",
       "      <td>6</td>\n",
       "      <td>33.3</td>\n",
       "    </tr>\n",
       "    <tr>\n",
       "      <th>4</th>\n",
       "      <td>1952</td>\n",
       "      <td>7</td>\n",
       "      <td>70.4</td>\n",
       "    </tr>\n",
       "  </tbody>\n",
       "</table>\n",
       "</div>"
      ],
      "text/plain": [
       "   Year Month  Rainfall_mm\n",
       "0  1952     3         63.1\n",
       "1  1952     4          4.2\n",
       "2  1952     5         32.1\n",
       "3  1952     6         33.3\n",
       "4  1952     7         70.4"
      ]
     },
     "execution_count": 6,
     "metadata": {},
     "output_type": "execute_result"
    }
   ],
   "source": [
    "# Keep only the rows where the first column contains only digits\n",
    "df_clean = df[df[df.columns[0]].str.isnumeric()]\n",
    "\n",
    "# Reset Index\n",
    "df_clean = df_clean.reset_index(drop=True)\n",
    "\n",
    "# Rename Columns\n",
    "df_clean.columns = [\"Year\", \"Month\", \"Rainfall_mm\"]\n",
    "\n",
    "# Convering Rainfall As A Numeric\n",
    "df_clean[\"Rainfall_mm\"] = pd.to_numeric(df_clean[\"Rainfall_mm\"], errors = \"coerce\")\n",
    "\n",
    "df_clean.head()"
   ]
  },
  {
   "cell_type": "code",
   "execution_count": null,
   "id": "285424b1-bc8d-40b3-96be-393cc5fab010",
   "metadata": {},
   "outputs": [],
   "source": []
  },
  {
   "cell_type": "markdown",
   "id": "68b3ac2a-61f2-4613-99dc-a60c1fe9d2ff",
   "metadata": {},
   "source": [
    "# Clean Data Frame Info"
   ]
  },
  {
   "cell_type": "code",
   "execution_count": 7,
   "id": "124d00aa-5b1b-4c40-8f8d-77638d0dd3a4",
   "metadata": {},
   "outputs": [
    {
     "name": "stdout",
     "output_type": "stream",
     "text": [
      "<class 'pandas.core.frame.DataFrame'>\n",
      "RangeIndex: 766 entries, 0 to 765\n",
      "Data columns (total 3 columns):\n",
      " #   Column       Non-Null Count  Dtype  \n",
      "---  ------       --------------  -----  \n",
      " 0   Year         766 non-null    object \n",
      " 1   Month        766 non-null    object \n",
      " 2   Rainfall_mm  766 non-null    float64\n",
      "dtypes: float64(1), object(2)\n",
      "memory usage: 18.1+ KB\n"
     ]
    }
   ],
   "source": [
    "df_clean.info()"
   ]
  },
  {
   "cell_type": "code",
   "execution_count": 8,
   "id": "f7ab428c-0c3c-4547-87b1-04be2034b19c",
   "metadata": {},
   "outputs": [
    {
     "data": {
      "text/plain": [
       "Year           0\n",
       "Month          0\n",
       "Rainfall_mm    0\n",
       "dtype: int64"
      ]
     },
     "execution_count": 8,
     "metadata": {},
     "output_type": "execute_result"
    }
   ],
   "source": [
    "df_clean.isnull().sum()"
   ]
  },
  {
   "cell_type": "code",
   "execution_count": 9,
   "id": "7e521e3d-e29c-423d-90c3-deff32cb5b4a",
   "metadata": {},
   "outputs": [
    {
     "data": {
      "text/html": [
       "<div>\n",
       "<style scoped>\n",
       "    .dataframe tbody tr th:only-of-type {\n",
       "        vertical-align: middle;\n",
       "    }\n",
       "\n",
       "    .dataframe tbody tr th {\n",
       "        vertical-align: top;\n",
       "    }\n",
       "\n",
       "    .dataframe thead th {\n",
       "        text-align: right;\n",
       "    }\n",
       "</style>\n",
       "<table border=\"1\" class=\"dataframe\">\n",
       "  <thead>\n",
       "    <tr style=\"text-align: right;\">\n",
       "      <th></th>\n",
       "      <th>Year</th>\n",
       "      <th>Month</th>\n",
       "      <th>Rainfall_mm</th>\n",
       "    </tr>\n",
       "  </thead>\n",
       "  <tbody>\n",
       "    <tr>\n",
       "      <th>count</th>\n",
       "      <td>766</td>\n",
       "      <td>766</td>\n",
       "      <td>766.000000</td>\n",
       "    </tr>\n",
       "    <tr>\n",
       "      <th>unique</th>\n",
       "      <td>64</td>\n",
       "      <td>12</td>\n",
       "      <td>NaN</td>\n",
       "    </tr>\n",
       "    <tr>\n",
       "      <th>top</th>\n",
       "      <td>1953</td>\n",
       "      <td>3</td>\n",
       "      <td>NaN</td>\n",
       "    </tr>\n",
       "    <tr>\n",
       "      <th>freq</th>\n",
       "      <td>12</td>\n",
       "      <td>64</td>\n",
       "      <td>NaN</td>\n",
       "    </tr>\n",
       "    <tr>\n",
       "      <th>mean</th>\n",
       "      <td>NaN</td>\n",
       "      <td>NaN</td>\n",
       "      <td>65.001958</td>\n",
       "    </tr>\n",
       "    <tr>\n",
       "      <th>std</th>\n",
       "      <td>NaN</td>\n",
       "      <td>NaN</td>\n",
       "      <td>34.797397</td>\n",
       "    </tr>\n",
       "    <tr>\n",
       "      <th>min</th>\n",
       "      <td>NaN</td>\n",
       "      <td>NaN</td>\n",
       "      <td>0.000000</td>\n",
       "    </tr>\n",
       "    <tr>\n",
       "      <th>25%</th>\n",
       "      <td>NaN</td>\n",
       "      <td>NaN</td>\n",
       "      <td>39.975000</td>\n",
       "    </tr>\n",
       "    <tr>\n",
       "      <th>50%</th>\n",
       "      <td>NaN</td>\n",
       "      <td>NaN</td>\n",
       "      <td>60.250000</td>\n",
       "    </tr>\n",
       "    <tr>\n",
       "      <th>75%</th>\n",
       "      <td>NaN</td>\n",
       "      <td>NaN</td>\n",
       "      <td>83.675000</td>\n",
       "    </tr>\n",
       "    <tr>\n",
       "      <th>max</th>\n",
       "      <td>NaN</td>\n",
       "      <td>NaN</td>\n",
       "      <td>189.400000</td>\n",
       "    </tr>\n",
       "  </tbody>\n",
       "</table>\n",
       "</div>"
      ],
      "text/plain": [
       "        Year Month  Rainfall_mm\n",
       "count    766   766   766.000000\n",
       "unique    64    12          NaN\n",
       "top     1953     3          NaN\n",
       "freq      12    64          NaN\n",
       "mean     NaN   NaN    65.001958\n",
       "std      NaN   NaN    34.797397\n",
       "min      NaN   NaN     0.000000\n",
       "25%      NaN   NaN    39.975000\n",
       "50%      NaN   NaN    60.250000\n",
       "75%      NaN   NaN    83.675000\n",
       "max      NaN   NaN   189.400000"
      ]
     },
     "execution_count": 9,
     "metadata": {},
     "output_type": "execute_result"
    }
   ],
   "source": [
    "df_clean.describe(include=\"all\")"
   ]
  },
  {
   "cell_type": "code",
   "execution_count": null,
   "id": "782a65a0-4e07-4851-80dd-dfc857f39acd",
   "metadata": {},
   "outputs": [],
   "source": []
  },
  {
   "cell_type": "markdown",
   "id": "64599794-25a2-4e45-9b9c-4286de7bb536",
   "metadata": {},
   "source": [
    "# 1. Basic Data Statistics"
   ]
  },
  {
   "cell_type": "code",
   "execution_count": 10,
   "id": "e608207c-9be1-4245-9e43-796b0071c869",
   "metadata": {},
   "outputs": [
    {
     "name": "stdout",
     "output_type": "stream",
     "text": [
      "Overall Mean Value: 65.00195822454307\n",
      "\n",
      "Per Month Mean Value: Month\n",
      "1     63.690476\n",
      "10    63.395313\n",
      "11    68.976562\n",
      "12    73.203125\n",
      "2     55.185714\n",
      "3     56.314062\n",
      "4     47.506250\n",
      "5     61.010937\n",
      "6     74.751563\n",
      "7     75.750000\n",
      "8     78.559375\n",
      "9     61.506250\n",
      "Name: Rainfall_mm, dtype: float64\n",
      "\n",
      "Per Year Mean Value: Year\n",
      "1952    66.770000\n",
      "1953    45.800000\n",
      "1954    62.291667\n",
      "1955    52.516667\n",
      "1956    56.875000\n",
      "          ...    \n",
      "2011    59.291667\n",
      "2012    70.575000\n",
      "2013    56.566667\n",
      "2014    66.283333\n",
      "2015    61.991667\n",
      "Name: Rainfall_mm, Length: 64, dtype: float64\n"
     ]
    }
   ],
   "source": [
    "# Calculating Mean Rainfall Overall\n",
    "overall = df_clean[\"Rainfall_mm\"].mean()\n",
    "\n",
    "# Calculating Mean Rainfall Per Month\n",
    "per_month = df_clean.groupby(\"Month\")[\"Rainfall_mm\"].mean()\n",
    "\n",
    "# Calculating Mean Rainfall Per Year\n",
    "per_year = df_clean.groupby(\"Year\")[\"Rainfall_mm\"].mean()\n",
    "\n",
    "print(\"Overall Mean Value:\", overall)\n",
    "print(\"\\nPer Month Mean Value:\", per_month)\n",
    "print(\"\\nPer Year Mean Value:\", per_year)"
   ]
  },
  {
   "cell_type": "code",
   "execution_count": 11,
   "id": "ff85f5ff-f5c6-4487-a7d1-a928e1f0d025",
   "metadata": {},
   "outputs": [
    {
     "name": "stdout",
     "output_type": "stream",
     "text": [
      "\n",
      "Overall Median Value: 60.25\n",
      "\n",
      "Per Month Median Value: Month\n",
      "1     61.30\n",
      "10    62.30\n",
      "11    73.45\n",
      "12    69.50\n",
      "2     48.40\n",
      "3     50.40\n",
      "4     43.15\n",
      "5     57.00\n",
      "6     67.30\n",
      "7     66.80\n",
      "8     62.55\n",
      "9     56.00\n",
      "Name: Rainfall_mm, dtype: float64\n"
     ]
    }
   ],
   "source": [
    "# Calculating Median Overall\n",
    "overall = df_clean[\"Rainfall_mm\"].median()\n",
    "\n",
    "# Calculating Median Per Month\n",
    "per_month = df_clean.groupby(\"Month\")[\"Rainfall_mm\"].median()\n",
    "\n",
    "print(\"\\nOverall Median Value:\", overall)\n",
    "print(\"\\nPer Month Median Value:\", per_month)"
   ]
  },
  {
   "cell_type": "code",
   "execution_count": 12,
   "id": "b6d7ced3-1dec-48ce-9525-e0c350098a15",
   "metadata": {},
   "outputs": [
    {
     "name": "stdout",
     "output_type": "stream",
     "text": [
      "\n",
      "Overall Minimum Rainfall Value: 0.0\n",
      "\n",
      "Overall Maximum Rainfall Value: 189.4\n",
      "\n",
      "Per Month Minimum Rainfall Value: Month\n",
      "1      8.5\n",
      "10     6.3\n",
      "11     9.6\n",
      "12    15.6\n",
      "2      3.6\n",
      "3      4.9\n",
      "4      0.0\n",
      "5     13.2\n",
      "6     12.0\n",
      "7     10.0\n",
      "8     13.4\n",
      "9      6.5\n",
      "Name: Rainfall_mm, dtype: float64\n",
      "\n",
      "Per Month Maximum Rainfall Value: Month\n",
      "1     130.3\n",
      "10    151.2\n",
      "11    130.4\n",
      "12    156.0\n",
      "2     153.9\n",
      "3     146.9\n",
      "4     112.1\n",
      "5     157.2\n",
      "6     169.6\n",
      "7     189.4\n",
      "8     186.7\n",
      "9     187.9\n",
      "Name: Rainfall_mm, dtype: float64\n"
     ]
    }
   ],
   "source": [
    "# Minimum & Maximum Rainfall Values overall\n",
    "min_rainfall = df_clean[\"Rainfall_mm\"].min()\n",
    "max_rainfall = df_clean[\"Rainfall_mm\"].max()\n",
    "\n",
    "# Minimum & Maximum Rainfall Values Per Month\n",
    "min_rainfall_per_month = df_clean.groupby(\"Month\")[\"Rainfall_mm\"].min()\n",
    "max_rainfall_per_month = df_clean.groupby(\"Month\")[\"Rainfall_mm\"].max()\n",
    "\n",
    "print(\"\\nOverall Minimum Rainfall Value:\", min_rainfall)\n",
    "print(\"\\nOverall Maximum Rainfall Value:\", max_rainfall)\n",
    "print(\"\\nPer Month Minimum Rainfall Value:\", min_rainfall_per_month)\n",
    "print(\"\\nPer Month Maximum Rainfall Value:\", max_rainfall_per_month)"
   ]
  },
  {
   "cell_type": "code",
   "execution_count": 13,
   "id": "71a73e7a-92a3-4c13-9b5e-123c20478495",
   "metadata": {},
   "outputs": [
    {
     "name": "stdout",
     "output_type": "stream",
     "text": [
      "\n",
      "Overall Standard Deviation Value: 34.79739730073849\n",
      "\n",
      "Overall Variance Value: 1210.858858905442\n",
      "\n",
      "Per Month Standard Deviation Value: Month\n",
      "1     26.595899\n",
      "10    34.018223\n",
      "11    28.854830\n",
      "12    33.863512\n",
      "2     29.887347\n",
      "3     28.402028\n",
      "4     27.742094\n",
      "5     30.890128\n",
      "6     35.306890\n",
      "7     39.515486\n",
      "8     43.827435\n",
      "9     41.595432\n",
      "Name: Rainfall_mm, dtype: float64\n",
      "\n",
      "Per Month Variance Value: Month\n",
      "1      707.341843\n",
      "10    1157.239501\n",
      "11     832.601188\n",
      "12    1146.737450\n",
      "2      893.253502\n",
      "3      806.675196\n",
      "4      769.623770\n",
      "5      954.200037\n",
      "6     1246.576505\n",
      "7     1561.473651\n",
      "8     1920.844038\n",
      "9     1730.179960\n",
      "Name: Rainfall_mm, dtype: float64\n"
     ]
    }
   ],
   "source": [
    "# Overall Standard Deviation & Variance\n",
    "std_overall = df_clean[\"Rainfall_mm\"].std()\n",
    "var_overall = df_clean[\"Rainfall_mm\"].var()\n",
    "\n",
    "# Per Month Standard Deviation & Variance\n",
    "std_per_month = df_clean.groupby(\"Month\")[\"Rainfall_mm\"].std()\n",
    "var_per_month = df_clean.groupby(\"Month\")[\"Rainfall_mm\"].var()\n",
    "\n",
    "print(\"\\nOverall Standard Deviation Value:\", std_overall)\n",
    "print(\"\\nOverall Variance Value:\", var_overall)\n",
    "print(\"\\nPer Month Standard Deviation Value:\", std_per_month)\n",
    "print(\"\\nPer Month Variance Value:\", var_per_month)"
   ]
  },
  {
   "cell_type": "code",
   "execution_count": null,
   "id": "dcdcc54c-ddba-4457-b89f-edab009812f2",
   "metadata": {},
   "outputs": [],
   "source": []
  },
  {
   "cell_type": "markdown",
   "id": "7787e820-f5ee-4eed-a05d-cfe00b04eddc",
   "metadata": {},
   "source": [
    "# 2. Data Visualization"
   ]
  },
  {
   "cell_type": "code",
   "execution_count": null,
   "id": "79c27dfe-57d3-4fc5-9b18-22dc042fc96f",
   "metadata": {},
   "outputs": [],
   "source": []
  },
  {
   "cell_type": "code",
   "execution_count": null,
   "id": "9f34eb1e-6786-4a7e-a298-8f0bb4060532",
   "metadata": {},
   "outputs": [],
   "source": []
  }
 ],
 "metadata": {
  "kernelspec": {
   "display_name": "Python 3 (ipykernel)",
   "language": "python",
   "name": "python3"
  },
  "language_info": {
   "codemirror_mode": {
    "name": "ipython",
    "version": 3
   },
   "file_extension": ".py",
   "mimetype": "text/x-python",
   "name": "python",
   "nbconvert_exporter": "python",
   "pygments_lexer": "ipython3",
   "version": "3.13.2"
  }
 },
 "nbformat": 4,
 "nbformat_minor": 5
}
